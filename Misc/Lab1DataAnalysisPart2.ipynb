{
 "cells": [
  {
   "cell_type": "code",
   "execution_count": 1,
   "metadata": {},
   "outputs": [],
   "source": [
    "import pandas as pd\n",
    "import matplotlib.pyplot as plt\n",
    "import seaborn as sns\n",
    "import numpy as np\n",
    "import csv\n",
    "import curveball\n",
    "%matplotlib inline \n",
    "#shows plot directly\n",
    "read_file = pd.read_excel (r'C:\\Users\\User\\Desktop\\Third year\\Modules Second Term\\Synthetic Biology\\Labs\\GROUP1Lab1ToCon.xlsx')\n",
    "read_file.to_csv (r'C:\\Users\\User\\Desktop\\Third year\\Modules Second Term\\Synthetic Biology\\Labs\\Group1CS.csv', index = None, header=True)\n",
    "fileLocation = \"C:\\\\Users\\\\User\\\\Desktop\\\\Third year\\\\Modules Second Term\\\\Synthetic Biology\\\\Labs\\\\Group1CS.csv\""
   ]
  },
  {
   "cell_type": "code",
   "execution_count": 2,
   "metadata": {},
   "outputs": [],
   "source": [
    "fileRead = pd.read_csv(fileLocation,delimiter=\",\",index_col='ABS600')\n",
    "#abba.loc[\"GFP\" , :]\n",
    "ABS600df = fileRead.iloc[0:81 , :];\n",
    "GFPdf = fileRead.iloc[83:164 , :]\n",
    "\n",
    "#ABS600df.head()\n"
   ]
  },
  {
   "cell_type": "code",
   "execution_count": 4,
   "metadata": {},
   "outputs": [
    {
     "data": {
      "text/plain": [
       "0.5136316872427987"
      ]
     },
     "metadata": {},
     "output_type": "display_data"
    },
    {
     "data": {
      "text/plain": [
       "0.42374897119341565"
      ]
     },
     "metadata": {},
     "output_type": "display_data"
    },
    {
     "data": {
      "text/plain": [
       "0.23894444444444446"
      ]
     },
     "metadata": {},
     "output_type": "display_data"
    }
   ],
   "source": [
    "MediaMean = (ABS600df['LB.1'] +ABS600df['LB.2'])/2\n",
    "MediaMean[MediaMean < 0] = 0\n",
    "\n",
    "\n",
    "A1Mean =  (ABS600df['A1'] + ABS600df['A1.1'] + ABS600df['A1.2']-(MediaMean*3))/3\n",
    "A1Mean[A1Mean < 0] = 0\n",
    "\n",
    "\n",
    "B2Mean =  (ABS600df['B2'] + ABS600df['B2.1'] + ABS600df['B2.2']-(MediaMean*3))/3\n",
    "B2Mean[B2Mean < 0] = 0\n",
    "\n",
    "\n",
    "C2Mean =  (ABS600df['C2'] + ABS600df['C2.1']-(MediaMean*2))/2\n",
    "C2Mean[C2Mean < 0] = 0\n",
    "\n",
    "\n",
    "D2_Mean =  (ABS600df['D2'] + ABS600df['D2.1'] + ABS600df['D2.2']-(MediaMean*3))/3\n",
    "D2_Mean[D2_Mean < 0] = 0\n",
    "\n",
    "\n",
    "D2Mean =  (ABS600df['D2+'] + ABS600df['D2+.2'] - (MediaMean*2))/2\n",
    "D2Mean[D2Mean < 0] = 0\n",
    "\n",
    "\n",
    "SMean =  (ABS600df['S'] + ABS600df['S.1'] + ABS600df['S.2']-(MediaMean*3))/3\n",
    "SMean[SMean < 0] = 0\n",
    "\n",
    "\n",
    "NMean =  (ABS600df['N'] + ABS600df['N.1'] + ABS600df['N.2']-(MediaMean*3))/3\n",
    "NMean[NMean < 0] = 0\n",
    "\n",
    "#plt.plot(ABS600df.MINUTES,D2Mean)\n",
    "display(np.mean(NMean))\n",
    "display(np.mean(SMean))\n",
    "display(np.mean(D2Mean))"
   ]
  },
  {
   "cell_type": "code",
   "execution_count": 6,
   "metadata": {},
   "outputs": [
    {
     "data": {
      "text/plain": [
       "array([32., 33., 34., 35., 36., 37., 38., 39., 40.])"
      ]
     },
     "metadata": {},
     "output_type": "display_data"
    },
    {
     "data": {
      "text/plain": [
       "[<matplotlib.lines.Line2D at 0x186ea371898>]"
      ]
     },
     "execution_count": 6,
     "metadata": {},
     "output_type": "execute_result"
    },
    {
     "data": {
      "image/png": "[encoded data removed]",
      "text/plain": [
       "<Figure size 432x288 with 1 Axes>"
      ]
     },
     "metadata": {
      "needs_background": "light"
     },
     "output_type": "display_data"
    }
   ],
   "source": [
    "GFPMeanMedia =  (GFPdf['LB.1'] + GFPdf['LB.2'])/2\n",
    "GFPMeanMedia[GFPMeanMedia < 0] = 0\n",
    "\n",
    "GFPMeanA1 = (GFPdf['A1'] +  GFPdf['A1.1'] +  GFPdf['A1.2']- (GFPMeanMedia*3))/3\n",
    "GFPMeanA1[GFPMeanA1 < 0] = 0\n",
    "\n",
    "\n",
    "GFPMeanB2 = (GFPdf['B2'] +  GFPdf['B2.1'] +  GFPdf['B2.2']- (GFPMeanMedia*3))/3\n",
    "GFPMeanB2[GFPMeanB2 < 0] = 0\n",
    "\n",
    "\n",
    "GFPMeanC2 = (GFPdf['C2'] +  GFPdf['C2.1']- (GFPMeanMedia*2))/2\n",
    "GFPMeanC2[GFPMeanC2 < 0] = 0\n",
    "\n",
    "\n",
    "GFPMean_D2 = (GFPdf['D2'] +  GFPdf['D2.1'] + GFPdf['D2.2']- (GFPMeanMedia*3))/3\n",
    "GFPMean_D2[GFPMean_D2 < 0] = 0\n",
    "\n",
    "\n",
    "GFPMeanD2P = (GFPdf['D2+'] - ((GFPMeanMedia*2))) /2\n",
    "GFPMeanD2P[GFPMeanD2P < 0] = 0\n",
    "\n",
    "\n",
    "GFPMeanN = (GFPdf['N'] + GFPdf['N.1'] + GFPdf['N.2'] - (GFPMeanMedia*3))/3\n",
    "GFPMeanN[GFPMeanN < 0] = 0\n",
    "\n",
    "\n",
    "GFPMeanS = (GFPdf['S'] + GFPdf['S.1'] + GFPdf['S.2'] - (GFPMeanMedia*3))/3\n",
    "GFPMeanS[GFPMeanS < 0] = 0\n",
    "\n",
    "display(np.linspace(32, 40.0, num=9))\n",
    "\n",
    "#display(np.mean(GFPMeanS))\n",
    "plt.plot(np.linspace(32, 40.0, num=9),GFPMeanD2P[32:41])\n",
    "plt.plot(np.linspace(0, 81.0, num=81),GFPMeanMedia)\n",
    "\n",
    "\n"
   ]
  },
  {
   "cell_type": "code",
   "execution_count": 8,
   "metadata": {},
   "outputs": [
    {
     "data": {
      "text/plain": [
       "2903.0"
      ]
     },
     "metadata": {},
     "output_type": "display_data"
    },
    {
     "data": {
      "text/plain": [
       "ABS600\n",
       "31        0.0\n",
       "32        0.0\n",
       "33        0.0\n",
       "34        0.0\n",
       "35        0.0\n",
       "36        0.0\n",
       "37      329.5\n",
       "38     2903.0\n",
       "39     6154.5\n",
       "40    10071.5\n",
       "dtype: float64"
      ]
     },
     "metadata": {},
     "output_type": "display_data"
    },
    {
     "data": {
      "text/plain": [
       "2903.0"
      ]
     },
     "metadata": {},
     "output_type": "display_data"
    },
    {
     "data": {
      "text/plain": [
       "4462.166666666667"
      ]
     },
     "metadata": {},
     "output_type": "display_data"
    }
   ],
   "source": [
    "dGFPA1 = ((GFPMeanA1[11]-GFPMeanA1[7])) #-GFPMeanMedia[13]#*(0.5/0.58))\n",
    "dGFPA1 < 0\n",
    "\n",
    "dGFPB2 = ((GFPMeanB2[11]-GFPMeanB2[7])) #- GFPMeanMedia[13]#*(0.5/0.58))\n",
    "\n",
    "dGFPB2 < 0\n",
    "\n",
    "dGFPC2 = ((GFPMeanC2[37]-GFPMeanC2[33])) #-GFPMeanMedia[13]#*(0.5/0.58))\n",
    "dGFPC2 < 0\n",
    "\n",
    "\n",
    "dGFP_D = ((GFPMean_D2[13]-GFPMean_D2[7])) #-GFPMeanMedia[13]#*(0.5/0.58))\n",
    "dGFP_D < 0\n",
    "\n",
    "dGFPDP = ((GFPMeanD2P[37] - GFPMeanD2P[33])) #-  GFPMeanMedia[13]#*(0.5/0.58))\n",
    "dGFPDP < 0\n",
    "\n",
    "dGFPN = ((GFPMeanN[11]-GFPMeanN[7])) #-GFPMeanMedia[13]#*(0.5/0.58))\n",
    "dGFPN < 0\n",
    "\n",
    "dGFPS = ((GFPMeanS[11]-GFPMeanS[7])) #-GFPMeanMedia[13]#*(0.5/0.58))\n",
    "dGFPS < 0\n",
    "\n",
    "\n",
    "#a = GFPMeanMedia[11]\n",
    "#display(a) \n",
    "#display(dGFPA1)\n",
    "#display(dGFPB2)\n",
    "#display(dGFPC2)\n",
    "display(GFPMeanD2P[37]-GFPMeanD2P[33])\n",
    "display(GFPMeanD2P[30:40])\n",
    "\n",
    "#display(dGFP_D)\n",
    "display(dGFPDP)\n",
    "#display(dGFPN)\n",
    "display(dGFPS)"
   ]
  },
  {
   "cell_type": "code",
   "execution_count": null,
   "metadata": {},
   "outputs": [],
   "source": []
  }
 ],
 "metadata": {
  "kernelspec": {
   "display_name": "Python 3",
   "language": "python",
   "name": "python3"
  },
  "language_info": {
   "codemirror_mode": {
    "name": "ipython",
    "version": 3
   },
   "file_extension": ".py",
   "mimetype": "text/x-python",
   "name": "python",
   "nbconvert_exporter": "python",
   "pygments_lexer": "ipython3",
   "version": "3.7.3"
  }
 },
 "nbformat": 4,
 "nbformat_minor": 2
}
